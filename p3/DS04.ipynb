{
  "nbformat": 4,
  "nbformat_minor": 0,
  "metadata": {
    "colab": {
      "name": "DS04.ipynb",
      "provenance": []
    },
    "kernelspec": {
      "name": "python3",
      "display_name": "Python 3"
    },
    "language_info": {
      "name": "python"
    }
  },
  "cells": [
    {
      "cell_type": "markdown",
      "metadata": {
        "id": "QeRyvJ95MuB3"
      },
      "source": [
        "# 第4回 レポート提出\n",
        "\n",
        "氏名　目白華子\n",
        "\n",
        "## 概要\n",
        "\n",
        "こちらに、できたこと、できなかったこと、気づいたことや感想を書いてください。\n"
      ]
    },
    {
      "cell_type": "markdown",
      "metadata": {
        "id": "Y34gGNsMM_GW"
      },
      "source": [
        "## コースワーク11\n",
        "\n",
        "演習（画像処理）\n",
        "\n",
        "Fashin-MNISTの画像データを使って、 ファッションアイテムの分類をしてみよう。\n",
        "\n",
        "http://kuramitsulab.github.io/lecnote/ds/ds11deep.html#コースワーク\n"
      ]
    },
    {
      "cell_type": "code",
      "metadata": {
        "id": "pS5K0MtRMrHf"
      },
      "source": [],
      "execution_count": null,
      "outputs": []
    },
    {
      "cell_type": "markdown",
      "metadata": {
        "id": "lRZVtVNrNcVW"
      },
      "source": [
        "## コースワーク12\n",
        "\n",
        "演習（エントリシート）\n",
        "\n",
        "企業がどのように AI を活用して、エントリーシートを分析しているか 考察してみよう。\n"
      ]
    },
    {
      "cell_type": "code",
      "metadata": {
        "id": "NwfBWUnoNblp"
      },
      "source": [],
      "execution_count": null,
      "outputs": []
    }
  ]
}