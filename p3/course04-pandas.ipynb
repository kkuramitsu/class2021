{
  "nbformat": 4,
  "nbformat_minor": 0,
  "metadata": {
    "colab": {
      "name": "BMI.ipynb",
      "provenance": [],
      "toc_visible": true,
      "authorship_tag": "ABX9TyOyD/FqcdqtgEgd/20OOAJF",
      "include_colab_link": true
    },
    "kernelspec": {
      "name": "python3",
      "display_name": "Python 3"
    }
  },
  "cells": [
    {
      "cell_type": "markdown",
      "metadata": {
        "id": "view-in-github",
        "colab_type": "text"
      },
      "source": [
        "<a href=\"https://colab.research.google.com/github/kkuramitsu/class2021/blob/main/p3/course04-pandas.ipynb\" target=\"_parent\"><img src=\"https://colab.research.google.com/assets/colab-badge.svg\" alt=\"Open In Colab\"/></a>"
      ]
    },
    {
      "cell_type": "markdown",
      "metadata": {
        "id": "zDENs4tlONAf"
      },
      "source": [
        "## CSV データの修得"
      ]
    },
    {
      "cell_type": "code",
      "metadata": {
        "id": "9HfIHKnUPL9a"
      },
      "source": [
        "import pandas as pd"
      ],
      "execution_count": null,
      "outputs": []
    },
    {
      "cell_type": "code",
      "metadata": {
        "colab": {
          "base_uri": "https://localhost:8080/"
        },
        "id": "wzPJgdpOOcRS",
        "outputId": "be5b9437-69f0-4755-a27f-1716e420a2ba"
      },
      "source": [
        "!wget https://raw.githubusercontent.com/massongit/math-program-book/master/9_data/サッカー/Jリーグ選手身長体重.csv\n",
        "!wget https://raw.githubusercontent.com/massongit/math-program-book/master/9_data/プロ野球/プロ野球選手身長体重.csv\n",
        "!wget https://raw.githubusercontent.com/massongit/math-program-book/master/9_data/相撲/力士身長体重.csv\n"
      ],
      "execution_count": null,
      "outputs": [
        {
          "output_type": "stream",
          "text": [
            "--2021-03-03 22:36:23--  https://raw.githubusercontent.com/massongit/math-program-book/master/9_data/%E3%82%B5%E3%83%83%E3%82%AB%E3%83%BC/J%E3%83%AA%E3%83%BC%E3%82%B0%E9%81%B8%E6%89%8B%E8%BA%AB%E9%95%B7%E4%BD%93%E9%87%8D.csv\n",
            "Resolving raw.githubusercontent.com (raw.githubusercontent.com)... 185.199.109.133, 185.199.108.133, 185.199.110.133, ...\n",
            "Connecting to raw.githubusercontent.com (raw.githubusercontent.com)|185.199.109.133|:443... connected.\n",
            "HTTP request sent, awaiting response... 200 OK\n",
            "Length: 39164 (38K) [text/plain]\n",
            "Saving to: ‘Jリーグ選手身長体重.csv’\n",
            "\n",
            "\rJリーグ選手身長体重   0%[                    ]       0  --.-KB/s               \rJリーグ選手身長体重 100%[===================>]  38.25K  --.-KB/s    in 0.004s  \n",
            "\n",
            "2021-03-03 22:36:24 (8.89 MB/s) - ‘Jリーグ選手身長体重.csv’ saved [39164/39164]\n",
            "\n",
            "--2021-03-03 22:36:24--  https://raw.githubusercontent.com/massongit/math-program-book/master/9_data/%E3%83%97%E3%83%AD%E9%87%8E%E7%90%83/%E3%83%97%E3%83%AD%E9%87%8E%E7%90%83%E9%81%B8%E6%89%8B%E8%BA%AB%E9%95%B7%E4%BD%93%E9%87%8D.csv\n",
            "Resolving raw.githubusercontent.com (raw.githubusercontent.com)... 185.199.111.133, 185.199.108.133, 185.199.110.133, ...\n",
            "Connecting to raw.githubusercontent.com (raw.githubusercontent.com)|185.199.111.133|:443... connected.\n",
            "HTTP request sent, awaiting response... 200 OK\n",
            "Length: 44865 (44K) [text/plain]\n",
            "Saving to: ‘プロ野球選手身長体重.csv’\n",
            "\n",
            "プロ野球選手身長体  100%[===================>]  43.81K  --.-KB/s    in 0.01s   \n",
            "\n",
            "2021-03-03 22:36:24 (3.46 MB/s) - ‘プロ野球選手身長体重.csv’ saved [44865/44865]\n",
            "\n",
            "--2021-03-03 22:36:24--  https://raw.githubusercontent.com/massongit/math-program-book/master/9_data/%E7%9B%B8%E6%92%B2/%E5%8A%9B%E5%A3%AB%E8%BA%AB%E9%95%B7%E4%BD%93%E9%87%8D.csv\n",
            "Resolving raw.githubusercontent.com (raw.githubusercontent.com)... 185.199.108.133, 185.199.110.133, 185.199.109.133, ...\n",
            "Connecting to raw.githubusercontent.com (raw.githubusercontent.com)|185.199.108.133|:443... connected.\n",
            "HTTP request sent, awaiting response... 200 OK\n",
            "Length: 1979 (1.9K) [text/plain]\n",
            "Saving to: ‘力士身長体重.csv’\n",
            "\n",
            "力士身長体重.csv    100%[===================>]   1.93K  --.-KB/s    in 0s      \n",
            "\n",
            "2021-03-03 22:36:24 (33.7 MB/s) - ‘力士身長体重.csv’ saved [1979/1979]\n",
            "\n"
          ],
          "name": "stdout"
        }
      ]
    },
    {
      "cell_type": "markdown",
      "metadata": {
        "id": "bshfmh4SPGKN"
      },
      "source": [
        "## 力士データ(Wrestler)"
      ]
    },
    {
      "cell_type": "code",
      "metadata": {
        "colab": {
          "base_uri": "https://localhost:8080/",
          "height": 204
        },
        "id": "ErATQJtaPXpV",
        "outputId": "31e0ca73-5a99-4939-d3a2-9d8893de9ff5"
      },
      "source": [
        "Wdata = pd.read_csv('力士身長体重.csv')\n",
        "Wdata.head()"
      ],
      "execution_count": null,
      "outputs": [
        {
          "output_type": "execute_result",
          "data": {
            "text/html": [
              "<div>\n",
              "<style scoped>\n",
              "    .dataframe tbody tr th:only-of-type {\n",
              "        vertical-align: middle;\n",
              "    }\n",
              "\n",
              "    .dataframe tbody tr th {\n",
              "        vertical-align: top;\n",
              "    }\n",
              "\n",
              "    .dataframe thead th {\n",
              "        text-align: right;\n",
              "    }\n",
              "</style>\n",
              "<table border=\"1\" class=\"dataframe\">\n",
              "  <thead>\n",
              "    <tr style=\"text-align: right;\">\n",
              "      <th></th>\n",
              "      <th>しこ名</th>\n",
              "      <th>身長</th>\n",
              "      <th>体重</th>\n",
              "    </tr>\n",
              "  </thead>\n",
              "  <tbody>\n",
              "    <tr>\n",
              "      <th>0</th>\n",
              "      <td>玉鷲 一朗</td>\n",
              "      <td>188.0</td>\n",
              "      <td>174.0</td>\n",
              "    </tr>\n",
              "    <tr>\n",
              "      <th>1</th>\n",
              "      <td>旭秀鵬 滉規</td>\n",
              "      <td>190.0</td>\n",
              "      <td>147.0</td>\n",
              "    </tr>\n",
              "    <tr>\n",
              "      <th>2</th>\n",
              "      <td>朝乃山 英樹</td>\n",
              "      <td>188.0</td>\n",
              "      <td>165.0</td>\n",
              "    </tr>\n",
              "    <tr>\n",
              "      <th>3</th>\n",
              "      <td>豪風 旭</td>\n",
              "      <td>171.0</td>\n",
              "      <td>150.0</td>\n",
              "    </tr>\n",
              "    <tr>\n",
              "      <th>4</th>\n",
              "      <td>大砂嵐 金太郎</td>\n",
              "      <td>189.0</td>\n",
              "      <td>152.0</td>\n",
              "    </tr>\n",
              "  </tbody>\n",
              "</table>\n",
              "</div>"
            ],
            "text/plain": [
              "       しこ名     身長     体重\n",
              "0    玉鷲 一朗  188.0  174.0\n",
              "1   旭秀鵬 滉規  190.0  147.0\n",
              "2   朝乃山 英樹  188.0  165.0\n",
              "3     豪風 旭  171.0  150.0\n",
              "4  大砂嵐 金太郎  189.0  152.0"
            ]
          },
          "metadata": {
            "tags": []
          },
          "execution_count": 21
        }
      ]
    },
    {
      "cell_type": "code",
      "metadata": {
        "colab": {
          "base_uri": "https://localhost:8080/",
          "height": 204
        },
        "id": "i6L65l5SPouB",
        "outputId": "4a0ccc33-6701-4ac7-8bb7-3550e20fee68"
      },
      "source": [
        "Wdata['職業'] = ['W'] * len(Rdata['身長'])\n",
        "Wdata.rename(columns={'しこ名': '名前'}, inplace=True)\n",
        "Wdata = Rdata.reindex(columns=['名前', '身長', '体重', '職業'])\n",
        "Wdata.head()"
      ],
      "execution_count": null,
      "outputs": [
        {
          "output_type": "execute_result",
          "data": {
            "text/html": [
              "<div>\n",
              "<style scoped>\n",
              "    .dataframe tbody tr th:only-of-type {\n",
              "        vertical-align: middle;\n",
              "    }\n",
              "\n",
              "    .dataframe tbody tr th {\n",
              "        vertical-align: top;\n",
              "    }\n",
              "\n",
              "    .dataframe thead th {\n",
              "        text-align: right;\n",
              "    }\n",
              "</style>\n",
              "<table border=\"1\" class=\"dataframe\">\n",
              "  <thead>\n",
              "    <tr style=\"text-align: right;\">\n",
              "      <th></th>\n",
              "      <th>名前</th>\n",
              "      <th>身長</th>\n",
              "      <th>体重</th>\n",
              "      <th>職業</th>\n",
              "    </tr>\n",
              "  </thead>\n",
              "  <tbody>\n",
              "    <tr>\n",
              "      <th>0</th>\n",
              "      <td>玉鷲 一朗</td>\n",
              "      <td>188.0</td>\n",
              "      <td>174.0</td>\n",
              "      <td>R</td>\n",
              "    </tr>\n",
              "    <tr>\n",
              "      <th>1</th>\n",
              "      <td>旭秀鵬 滉規</td>\n",
              "      <td>190.0</td>\n",
              "      <td>147.0</td>\n",
              "      <td>R</td>\n",
              "    </tr>\n",
              "    <tr>\n",
              "      <th>2</th>\n",
              "      <td>朝乃山 英樹</td>\n",
              "      <td>188.0</td>\n",
              "      <td>165.0</td>\n",
              "      <td>R</td>\n",
              "    </tr>\n",
              "    <tr>\n",
              "      <th>3</th>\n",
              "      <td>豪風 旭</td>\n",
              "      <td>171.0</td>\n",
              "      <td>150.0</td>\n",
              "      <td>R</td>\n",
              "    </tr>\n",
              "    <tr>\n",
              "      <th>4</th>\n",
              "      <td>大砂嵐 金太郎</td>\n",
              "      <td>189.0</td>\n",
              "      <td>152.0</td>\n",
              "      <td>R</td>\n",
              "    </tr>\n",
              "  </tbody>\n",
              "</table>\n",
              "</div>"
            ],
            "text/plain": [
              "        名前     身長     体重 職業\n",
              "0    玉鷲 一朗  188.0  174.0  R\n",
              "1   旭秀鵬 滉規  190.0  147.0  R\n",
              "2   朝乃山 英樹  188.0  165.0  R\n",
              "3     豪風 旭  171.0  150.0  R\n",
              "4  大砂嵐 金太郎  189.0  152.0  R"
            ]
          },
          "metadata": {
            "tags": []
          },
          "execution_count": 22
        }
      ]
    },
    {
      "cell_type": "markdown",
      "metadata": {
        "id": "Z-WeqXefQ11j"
      },
      "source": [
        "## Jリーグ選手(Football)"
      ]
    },
    {
      "cell_type": "code",
      "metadata": {
        "colab": {
          "base_uri": "https://localhost:8080/",
          "height": 204
        },
        "id": "fI3RTzLcQ1EX",
        "outputId": "6821bf0d-d9ed-48eb-b804-874e201c6538"
      },
      "source": [
        "Fdata =  pd.read_csv('Jリーグ選手身長体重.csv')\n",
        "Fdata.head()"
      ],
      "execution_count": null,
      "outputs": [
        {
          "output_type": "execute_result",
          "data": {
            "text/html": [
              "<div>\n",
              "<style scoped>\n",
              "    .dataframe tbody tr th:only-of-type {\n",
              "        vertical-align: middle;\n",
              "    }\n",
              "\n",
              "    .dataframe tbody tr th {\n",
              "        vertical-align: top;\n",
              "    }\n",
              "\n",
              "    .dataframe thead th {\n",
              "        text-align: right;\n",
              "    }\n",
              "</style>\n",
              "<table border=\"1\" class=\"dataframe\">\n",
              "  <thead>\n",
              "    <tr style=\"text-align: right;\">\n",
              "      <th></th>\n",
              "      <th>チーム</th>\n",
              "      <th>ポジション</th>\n",
              "      <th>背番号</th>\n",
              "      <th>名前</th>\n",
              "      <th>生年月日</th>\n",
              "      <th>身長</th>\n",
              "      <th>体重</th>\n",
              "    </tr>\n",
              "  </thead>\n",
              "  <tbody>\n",
              "    <tr>\n",
              "      <th>0</th>\n",
              "      <td>川崎フロンターレ</td>\n",
              "      <td>GK</td>\n",
              "      <td>1.0</td>\n",
              "      <td>チョン　ソンリョン</td>\n",
              "      <td>1985/01/04</td>\n",
              "      <td>191</td>\n",
              "      <td>90</td>\n",
              "    </tr>\n",
              "    <tr>\n",
              "      <th>1</th>\n",
              "      <td>川崎フロンターレ</td>\n",
              "      <td>GK</td>\n",
              "      <td>24.0</td>\n",
              "      <td>安藤　駿介</td>\n",
              "      <td>1990/08/10</td>\n",
              "      <td>185</td>\n",
              "      <td>79</td>\n",
              "    </tr>\n",
              "    <tr>\n",
              "      <th>2</th>\n",
              "      <td>川崎フロンターレ</td>\n",
              "      <td>GK</td>\n",
              "      <td>30.0</td>\n",
              "      <td>新井　章太</td>\n",
              "      <td>1988/11/01</td>\n",
              "      <td>185</td>\n",
              "      <td>82</td>\n",
              "    </tr>\n",
              "    <tr>\n",
              "      <th>3</th>\n",
              "      <td>川崎フロンターレ</td>\n",
              "      <td>GK</td>\n",
              "      <td>31.0</td>\n",
              "      <td>ポープ　ウィリアム</td>\n",
              "      <td>1994/10/21</td>\n",
              "      <td>192</td>\n",
              "      <td>89</td>\n",
              "    </tr>\n",
              "    <tr>\n",
              "      <th>4</th>\n",
              "      <td>川崎フロンターレ</td>\n",
              "      <td>DF</td>\n",
              "      <td>2.0</td>\n",
              "      <td>登里　享平</td>\n",
              "      <td>1990/11/13</td>\n",
              "      <td>168</td>\n",
              "      <td>68</td>\n",
              "    </tr>\n",
              "  </tbody>\n",
              "</table>\n",
              "</div>"
            ],
            "text/plain": [
              "        チーム ポジション   背番号         名前        生年月日   身長  体重\n",
              "0  川崎フロンターレ    GK   1.0  チョン　ソンリョン  1985/01/04  191  90\n",
              "1  川崎フロンターレ    GK  24.0      安藤　駿介  1990/08/10  185  79\n",
              "2  川崎フロンターレ    GK  30.0      新井　章太  1988/11/01  185  82\n",
              "3  川崎フロンターレ    GK  31.0  ポープ　ウィリアム  1994/10/21  192  89\n",
              "4  川崎フロンターレ    DF   2.0      登里　享平  1990/11/13  168  68"
            ]
          },
          "metadata": {
            "tags": []
          },
          "execution_count": 23
        }
      ]
    },
    {
      "cell_type": "code",
      "metadata": {
        "colab": {
          "base_uri": "https://localhost:8080/",
          "height": 204
        },
        "id": "WXLyCI_qRL2z",
        "outputId": "9b3e1514-b3e1-4be2-f724-c9b6a042ac54"
      },
      "source": [
        "Fdata.drop(['チーム', 'ポジション', '背番号', '生年月日'], axis=1, inplace=True)\n",
        "Fdata['職業'] = ['F'] * len(Fdata)\n",
        "Fdata.head()\n"
      ],
      "execution_count": null,
      "outputs": [
        {
          "output_type": "execute_result",
          "data": {
            "text/html": [
              "<div>\n",
              "<style scoped>\n",
              "    .dataframe tbody tr th:only-of-type {\n",
              "        vertical-align: middle;\n",
              "    }\n",
              "\n",
              "    .dataframe tbody tr th {\n",
              "        vertical-align: top;\n",
              "    }\n",
              "\n",
              "    .dataframe thead th {\n",
              "        text-align: right;\n",
              "    }\n",
              "</style>\n",
              "<table border=\"1\" class=\"dataframe\">\n",
              "  <thead>\n",
              "    <tr style=\"text-align: right;\">\n",
              "      <th></th>\n",
              "      <th>名前</th>\n",
              "      <th>身長</th>\n",
              "      <th>体重</th>\n",
              "      <th>職業</th>\n",
              "    </tr>\n",
              "  </thead>\n",
              "  <tbody>\n",
              "    <tr>\n",
              "      <th>0</th>\n",
              "      <td>チョン　ソンリョン</td>\n",
              "      <td>191</td>\n",
              "      <td>90</td>\n",
              "      <td>F</td>\n",
              "    </tr>\n",
              "    <tr>\n",
              "      <th>1</th>\n",
              "      <td>安藤　駿介</td>\n",
              "      <td>185</td>\n",
              "      <td>79</td>\n",
              "      <td>F</td>\n",
              "    </tr>\n",
              "    <tr>\n",
              "      <th>2</th>\n",
              "      <td>新井　章太</td>\n",
              "      <td>185</td>\n",
              "      <td>82</td>\n",
              "      <td>F</td>\n",
              "    </tr>\n",
              "    <tr>\n",
              "      <th>3</th>\n",
              "      <td>ポープ　ウィリアム</td>\n",
              "      <td>192</td>\n",
              "      <td>89</td>\n",
              "      <td>F</td>\n",
              "    </tr>\n",
              "    <tr>\n",
              "      <th>4</th>\n",
              "      <td>登里　享平</td>\n",
              "      <td>168</td>\n",
              "      <td>68</td>\n",
              "      <td>F</td>\n",
              "    </tr>\n",
              "  </tbody>\n",
              "</table>\n",
              "</div>"
            ],
            "text/plain": [
              "          名前   身長  体重 職業\n",
              "0  チョン　ソンリョン  191  90  F\n",
              "1      安藤　駿介  185  79  F\n",
              "2      新井　章太  185  82  F\n",
              "3  ポープ　ウィリアム  192  89  F\n",
              "4      登里　享平  168  68  F"
            ]
          },
          "metadata": {
            "tags": []
          },
          "execution_count": 24
        }
      ]
    },
    {
      "cell_type": "markdown",
      "metadata": {
        "id": "0uf5ZfEvSYDt"
      },
      "source": [
        "## 野球(Baseball)"
      ]
    },
    {
      "cell_type": "code",
      "metadata": {
        "colab": {
          "base_uri": "https://localhost:8080/",
          "height": 204
        },
        "id": "9KSwmvF3SXpX",
        "outputId": "6ec3106d-6c4b-44d2-ddd9-ce4a841e7368"
      },
      "source": [
        "Bdata =  pd.read_csv('プロ野球選手身長体重.csv')\n",
        "Bdata.head()"
      ],
      "execution_count": null,
      "outputs": [
        {
          "output_type": "execute_result",
          "data": {
            "text/html": [
              "<div>\n",
              "<style scoped>\n",
              "    .dataframe tbody tr th:only-of-type {\n",
              "        vertical-align: middle;\n",
              "    }\n",
              "\n",
              "    .dataframe tbody tr th {\n",
              "        vertical-align: top;\n",
              "    }\n",
              "\n",
              "    .dataframe thead th {\n",
              "        text-align: right;\n",
              "    }\n",
              "</style>\n",
              "<table border=\"1\" class=\"dataframe\">\n",
              "  <thead>\n",
              "    <tr style=\"text-align: right;\">\n",
              "      <th></th>\n",
              "      <th>チーム</th>\n",
              "      <th>背番号</th>\n",
              "      <th>氏名</th>\n",
              "      <th>生年月日</th>\n",
              "      <th>身長</th>\n",
              "      <th>体重</th>\n",
              "      <th>投</th>\n",
              "      <th>打</th>\n",
              "    </tr>\n",
              "  </thead>\n",
              "  <tbody>\n",
              "    <tr>\n",
              "      <th>0</th>\n",
              "      <td>広島</td>\n",
              "      <td>11</td>\n",
              "      <td>福井　優也</td>\n",
              "      <td>1988.02.08</td>\n",
              "      <td>178</td>\n",
              "      <td>85</td>\n",
              "      <td>右</td>\n",
              "      <td>右</td>\n",
              "    </tr>\n",
              "    <tr>\n",
              "      <th>1</th>\n",
              "      <td>広島</td>\n",
              "      <td>12</td>\n",
              "      <td>九里　亜蓮</td>\n",
              "      <td>1991.09.01</td>\n",
              "      <td>187</td>\n",
              "      <td>92</td>\n",
              "      <td>右</td>\n",
              "      <td>右</td>\n",
              "    </tr>\n",
              "    <tr>\n",
              "      <th>2</th>\n",
              "      <td>広島</td>\n",
              "      <td>13</td>\n",
              "      <td>加藤　拓也</td>\n",
              "      <td>1994.12.31</td>\n",
              "      <td>176</td>\n",
              "      <td>88</td>\n",
              "      <td>右</td>\n",
              "      <td>右</td>\n",
              "    </tr>\n",
              "    <tr>\n",
              "      <th>3</th>\n",
              "      <td>広島</td>\n",
              "      <td>14</td>\n",
              "      <td>大瀬良　大地</td>\n",
              "      <td>1991.06.17</td>\n",
              "      <td>187</td>\n",
              "      <td>93</td>\n",
              "      <td>右</td>\n",
              "      <td>右</td>\n",
              "    </tr>\n",
              "    <tr>\n",
              "      <th>4</th>\n",
              "      <td>広島</td>\n",
              "      <td>16</td>\n",
              "      <td>今村　猛</td>\n",
              "      <td>1991.04.17</td>\n",
              "      <td>183</td>\n",
              "      <td>98</td>\n",
              "      <td>右</td>\n",
              "      <td>右</td>\n",
              "    </tr>\n",
              "  </tbody>\n",
              "</table>\n",
              "</div>"
            ],
            "text/plain": [
              "  チーム  背番号      氏名        生年月日   身長  体重  投  打\n",
              "0  広島   11   福井　優也  1988.02.08  178  85  右  右\n",
              "1  広島   12   九里　亜蓮  1991.09.01  187  92  右  右\n",
              "2  広島   13   加藤　拓也  1994.12.31  176  88  右  右\n",
              "3  広島   14  大瀬良　大地  1991.06.17  187  93  右  右\n",
              "4  広島   16    今村　猛  1991.04.17  183  98  右  右"
            ]
          },
          "metadata": {
            "tags": []
          },
          "execution_count": 26
        }
      ]
    },
    {
      "cell_type": "code",
      "metadata": {
        "colab": {
          "base_uri": "https://localhost:8080/",
          "height": 204
        },
        "id": "6bNIGGTLSpgZ",
        "outputId": "7da2fb30-95c7-4dfa-83cb-925cca3b432b"
      },
      "source": [
        "Bdata.drop(['チーム', '投', '打', '背番号', '生年月日'], axis=1, inplace=True)\n",
        "Bdata.rename(columns={'氏名': '名前'}, inplace=True)\n",
        "Bdata['職業'] = ['B'] * len(Bdata)\n",
        "Bdata.head()\n"
      ],
      "execution_count": null,
      "outputs": [
        {
          "output_type": "execute_result",
          "data": {
            "text/html": [
              "<div>\n",
              "<style scoped>\n",
              "    .dataframe tbody tr th:only-of-type {\n",
              "        vertical-align: middle;\n",
              "    }\n",
              "\n",
              "    .dataframe tbody tr th {\n",
              "        vertical-align: top;\n",
              "    }\n",
              "\n",
              "    .dataframe thead th {\n",
              "        text-align: right;\n",
              "    }\n",
              "</style>\n",
              "<table border=\"1\" class=\"dataframe\">\n",
              "  <thead>\n",
              "    <tr style=\"text-align: right;\">\n",
              "      <th></th>\n",
              "      <th>名前</th>\n",
              "      <th>身長</th>\n",
              "      <th>体重</th>\n",
              "      <th>職業</th>\n",
              "    </tr>\n",
              "  </thead>\n",
              "  <tbody>\n",
              "    <tr>\n",
              "      <th>0</th>\n",
              "      <td>福井　優也</td>\n",
              "      <td>178</td>\n",
              "      <td>85</td>\n",
              "      <td>B</td>\n",
              "    </tr>\n",
              "    <tr>\n",
              "      <th>1</th>\n",
              "      <td>九里　亜蓮</td>\n",
              "      <td>187</td>\n",
              "      <td>92</td>\n",
              "      <td>B</td>\n",
              "    </tr>\n",
              "    <tr>\n",
              "      <th>2</th>\n",
              "      <td>加藤　拓也</td>\n",
              "      <td>176</td>\n",
              "      <td>88</td>\n",
              "      <td>B</td>\n",
              "    </tr>\n",
              "    <tr>\n",
              "      <th>3</th>\n",
              "      <td>大瀬良　大地</td>\n",
              "      <td>187</td>\n",
              "      <td>93</td>\n",
              "      <td>B</td>\n",
              "    </tr>\n",
              "    <tr>\n",
              "      <th>4</th>\n",
              "      <td>今村　猛</td>\n",
              "      <td>183</td>\n",
              "      <td>98</td>\n",
              "      <td>B</td>\n",
              "    </tr>\n",
              "  </tbody>\n",
              "</table>\n",
              "</div>"
            ],
            "text/plain": [
              "       名前   身長  体重 職業\n",
              "0   福井　優也  178  85  B\n",
              "1   九里　亜蓮  187  92  B\n",
              "2   加藤　拓也  176  88  B\n",
              "3  大瀬良　大地  187  93  B\n",
              "4    今村　猛  183  98  B"
            ]
          },
          "metadata": {
            "tags": []
          },
          "execution_count": 27
        }
      ]
    },
    {
      "cell_type": "code",
      "metadata": {
        "colab": {
          "base_uri": "https://localhost:8080/",
          "height": 204
        },
        "id": "0lj89BLVTarU",
        "outputId": "543f96d8-b1cb-4907-ab7f-3b931d7fdecc"
      },
      "source": [
        "data = pd.concat([Bdata, Fdata, Wdata])\n",
        "data.head()"
      ],
      "execution_count": null,
      "outputs": [
        {
          "output_type": "execute_result",
          "data": {
            "text/html": [
              "<div>\n",
              "<style scoped>\n",
              "    .dataframe tbody tr th:only-of-type {\n",
              "        vertical-align: middle;\n",
              "    }\n",
              "\n",
              "    .dataframe tbody tr th {\n",
              "        vertical-align: top;\n",
              "    }\n",
              "\n",
              "    .dataframe thead th {\n",
              "        text-align: right;\n",
              "    }\n",
              "</style>\n",
              "<table border=\"1\" class=\"dataframe\">\n",
              "  <thead>\n",
              "    <tr style=\"text-align: right;\">\n",
              "      <th></th>\n",
              "      <th>名前</th>\n",
              "      <th>身長</th>\n",
              "      <th>体重</th>\n",
              "      <th>職業</th>\n",
              "    </tr>\n",
              "  </thead>\n",
              "  <tbody>\n",
              "    <tr>\n",
              "      <th>0</th>\n",
              "      <td>福井　優也</td>\n",
              "      <td>178.0</td>\n",
              "      <td>85.0</td>\n",
              "      <td>B</td>\n",
              "    </tr>\n",
              "    <tr>\n",
              "      <th>1</th>\n",
              "      <td>九里　亜蓮</td>\n",
              "      <td>187.0</td>\n",
              "      <td>92.0</td>\n",
              "      <td>B</td>\n",
              "    </tr>\n",
              "    <tr>\n",
              "      <th>2</th>\n",
              "      <td>加藤　拓也</td>\n",
              "      <td>176.0</td>\n",
              "      <td>88.0</td>\n",
              "      <td>B</td>\n",
              "    </tr>\n",
              "    <tr>\n",
              "      <th>3</th>\n",
              "      <td>大瀬良　大地</td>\n",
              "      <td>187.0</td>\n",
              "      <td>93.0</td>\n",
              "      <td>B</td>\n",
              "    </tr>\n",
              "    <tr>\n",
              "      <th>4</th>\n",
              "      <td>今村　猛</td>\n",
              "      <td>183.0</td>\n",
              "      <td>98.0</td>\n",
              "      <td>B</td>\n",
              "    </tr>\n",
              "  </tbody>\n",
              "</table>\n",
              "</div>"
            ],
            "text/plain": [
              "       名前     身長    体重 職業\n",
              "0   福井　優也  178.0  85.0  B\n",
              "1   九里　亜蓮  187.0  92.0  B\n",
              "2   加藤　拓也  176.0  88.0  B\n",
              "3  大瀬良　大地  187.0  93.0  B\n",
              "4    今村　猛  183.0  98.0  B"
            ]
          },
          "metadata": {
            "tags": []
          },
          "execution_count": 42
        }
      ]
    },
    {
      "cell_type": "code",
      "metadata": {
        "id": "lT63fFgLVYXN"
      },
      "source": [
        "data.to_csv('bmi.csv', index=False)"
      ],
      "execution_count": null,
      "outputs": []
    },
    {
      "cell_type": "code",
      "metadata": {
        "colab": {
          "base_uri": "https://localhost:8080/"
        },
        "id": "biwHRTHFVw9E",
        "outputId": "7c006533-c556-40b9-ab2c-c0fd4c5ff51a"
      },
      "source": [
        "!head bmi.csv"
      ],
      "execution_count": null,
      "outputs": [
        {
          "output_type": "stream",
          "text": [
            "名前,身長,体重,職業\n",
            "福井　優也,178.0,85.0,B\n",
            "九里　亜蓮,187.0,92.0,B\n",
            "加藤　拓也,176.0,88.0,B\n",
            "大瀬良　大地,187.0,93.0,B\n",
            "今村　猛,183.0,98.0,B\n",
            "岡田　明丈,185.0,90.0,B\n",
            "野村　祐輔,177.0,82.0,B\n",
            "永川　勝浩,188.0,98.0,B\n",
            "中﨑　翔太,186.0,100.0,B\n"
          ],
          "name": "stdout"
        }
      ]
    },
    {
      "cell_type": "markdown",
      "metadata": {
        "id": "U18OnD_-ohpr"
      },
      "source": [
        "# 散布図"
      ]
    },
    {
      "cell_type": "code",
      "metadata": {
        "colab": {
          "base_uri": "https://localhost:8080/",
          "height": 301
        },
        "id": "DSLYUPvIohI-",
        "outputId": "8ceb7f8e-41c4-48c9-9bb2-e53487b10850"
      },
      "source": [
        "#data[['身長', '体重']].plot(kind='scatter', x='身長', y='体重')\n",
        "data.plot(kind='scatter', x='身長', y='体重', c='red')"
      ],
      "execution_count": null,
      "outputs": [
        {
          "output_type": "execute_result",
          "data": {
            "text/plain": [
              "<matplotlib.axes._subplots.AxesSubplot at 0x7f8fa0af53d0>"
            ]
          },
          "metadata": {
            "tags": []
          },
          "execution_count": 50
        },
        {
          "output_type": "display_data",
          "data": {
            "image/png": "[encoded data removed]",
            "text/plain": [
              "<Figure size 432x288 with 1 Axes>"
            ]
          },
          "metadata": {
            "tags": [],
            "needs_background": "light"
          }
        }
      ]
    },
    {
      "cell_type": "code",
      "metadata": {
        "colab": {
          "base_uri": "https://localhost:8080/",
          "height": 284
        },
        "id": "aC2KxJUEpD8U",
        "outputId": "2ad0342c-fa7a-48a1-f1c8-a8346b7ba96f"
      },
      "source": [
        "colors = ['blue', 'red', 'green']\n",
        "ax = None\n",
        "for i, group in enumerate(data.groupby('職業')):\n",
        "  ax = group[1].plot(kind='scatter', x='身長', y='体重', alpha=0.3, c=colors[int(i)], ax=ax)\n"
      ],
      "execution_count": null,
      "outputs": [
        {
          "output_type": "display_data",
          "data": {
            "image/png": "[encoded data removed]",
            "text/plain": [
              "<Figure size 432x288 with 1 Axes>"
            ]
          },
          "metadata": {
            "tags": [],
            "needs_background": "light"
          }
        }
      ]
    },
    {
      "cell_type": "code",
      "metadata": {
        "colab": {
          "base_uri": "https://localhost:8080/",
          "height": 284
        },
        "id": "vwu3ZGZLq3xi",
        "outputId": "16fab2c0-4f5e-496d-aa37-1e38e6768ba4"
      },
      "source": [
        "colors = ['blue', 'red', 'green']\n",
        "for i, group in enumerate(data.groupby('職業')):\n",
        "  group[1]['体重'].plot(kind='hist', alpha=0.5, bins=20, title='体重')\n"
      ],
      "execution_count": null,
      "outputs": [
        {
          "output_type": "display_data",
          "data": {
            "image/png": "[encoded data removed]",
            "text/plain": [
              "<Figure size 432x288 with 1 Axes>"
            ]
          },
          "metadata": {
            "tags": [],
            "needs_background": "light"
          }
        }
      ]
    },
    {
      "cell_type": "code",
      "metadata": {
        "colab": {
          "base_uri": "https://localhost:8080/"
        },
        "id": "K4_I3tawV5xq",
        "outputId": "7cee5fb6-e680-4c11-fd7f-b6d75962f885"
      },
      "source": [
        "from sklearn.cluster import KMeans\n",
        "model = KMeans(init='random', n_clusters=3)\n",
        "model.fit(data[['身長', '体重']])"
      ],
      "execution_count": null,
      "outputs": [
        {
          "output_type": "execute_result",
          "data": {
            "text/plain": [
              "KMeans(algorithm='auto', copy_x=True, init='random', max_iter=300, n_clusters=3,\n",
              "       n_init=10, n_jobs=None, precompute_distances='auto', random_state=None,\n",
              "       tol=0.0001, verbose=0)"
            ]
          },
          "metadata": {
            "tags": []
          },
          "execution_count": 59
        }
      ]
    },
    {
      "cell_type": "markdown",
      "metadata": {
        "id": "NQpAFqGkrwsb"
      },
      "source": [
        "# 距離の総和"
      ]
    },
    {
      "cell_type": "code",
      "metadata": {
        "colab": {
          "base_uri": "https://localhost:8080/"
        },
        "id": "SwMx6epyr8uO",
        "outputId": "9af1af31-315b-4b0c-a1c0-4e67ccb0d16d"
      },
      "source": [
        "print(model.inertia_)"
      ],
      "execution_count": null,
      "outputs": [
        {
          "output_type": "stream",
          "text": [
            "127992.11646535943\n"
          ],
          "name": "stdout"
        }
      ]
    },
    {
      "cell_type": "code",
      "metadata": {
        "colab": {
          "base_uri": "https://localhost:8080/",
          "height": 301
        },
        "id": "5GPpGTkCsQY-",
        "outputId": "76176761-0f24-4507-875b-245d63037aa7"
      },
      "source": [
        "dist = []\n",
        "for i in range(1, 10):\n",
        "  km = KMeans(init='random', n_clusters=i)\n",
        "  km.fit(data[['身長', '体重']])\n",
        "  dist.append(km.inertia_)\n",
        "\n",
        "plt.plot(range(1, 10), dist, marker='+')\n",
        "plt.xlabel('クラスタ数')\n",
        "plt.ylabel('距離の総和')"
      ],
      "execution_count": null,
      "outputs": [
        {
          "output_type": "execute_result",
          "data": {
            "text/plain": [
              "Text(0, 0.5, '距離の総和')"
            ]
          },
          "metadata": {
            "tags": []
          },
          "execution_count": 67
        },
        {
          "output_type": "display_data",
          "data": {
            "image/png": "[encoded data removed]",
            "text/plain": [
              "<Figure size 432x288 with 1 Axes>"
            ]
          },
          "metadata": {
            "tags": [],
            "needs_background": "light"
          }
        }
      ]
    },
    {
      "cell_type": "code",
      "metadata": {
        "id": "Fhkzfj02XHL8"
      },
      "source": [
        "data['クラスター'] = model.predict(data[['身長', '体重']])"
      ],
      "execution_count": null,
      "outputs": []
    },
    {
      "cell_type": "code",
      "metadata": {
        "colab": {
          "base_uri": "https://localhost:8080/",
          "height": 204
        },
        "id": "c4SjNhzkXSXi",
        "outputId": "865801a8-2856-4fb6-bc5d-d8e992fed2c7"
      },
      "source": [
        "data.head()"
      ],
      "execution_count": null,
      "outputs": [
        {
          "output_type": "execute_result",
          "data": {
            "text/html": [
              "<div>\n",
              "<style scoped>\n",
              "    .dataframe tbody tr th:only-of-type {\n",
              "        vertical-align: middle;\n",
              "    }\n",
              "\n",
              "    .dataframe tbody tr th {\n",
              "        vertical-align: top;\n",
              "    }\n",
              "\n",
              "    .dataframe thead th {\n",
              "        text-align: right;\n",
              "    }\n",
              "</style>\n",
              "<table border=\"1\" class=\"dataframe\">\n",
              "  <thead>\n",
              "    <tr style=\"text-align: right;\">\n",
              "      <th></th>\n",
              "      <th>名前</th>\n",
              "      <th>身長</th>\n",
              "      <th>体重</th>\n",
              "      <th>職業</th>\n",
              "      <th>クラスター</th>\n",
              "    </tr>\n",
              "  </thead>\n",
              "  <tbody>\n",
              "    <tr>\n",
              "      <th>0</th>\n",
              "      <td>福井　優也</td>\n",
              "      <td>178.0</td>\n",
              "      <td>85.0</td>\n",
              "      <td>B</td>\n",
              "      <td>0</td>\n",
              "    </tr>\n",
              "    <tr>\n",
              "      <th>1</th>\n",
              "      <td>九里　亜蓮</td>\n",
              "      <td>187.0</td>\n",
              "      <td>92.0</td>\n",
              "      <td>B</td>\n",
              "      <td>0</td>\n",
              "    </tr>\n",
              "    <tr>\n",
              "      <th>2</th>\n",
              "      <td>加藤　拓也</td>\n",
              "      <td>176.0</td>\n",
              "      <td>88.0</td>\n",
              "      <td>B</td>\n",
              "      <td>0</td>\n",
              "    </tr>\n",
              "    <tr>\n",
              "      <th>3</th>\n",
              "      <td>大瀬良　大地</td>\n",
              "      <td>187.0</td>\n",
              "      <td>93.0</td>\n",
              "      <td>B</td>\n",
              "      <td>0</td>\n",
              "    </tr>\n",
              "    <tr>\n",
              "      <th>4</th>\n",
              "      <td>今村　猛</td>\n",
              "      <td>183.0</td>\n",
              "      <td>98.0</td>\n",
              "      <td>B</td>\n",
              "      <td>0</td>\n",
              "    </tr>\n",
              "  </tbody>\n",
              "</table>\n",
              "</div>"
            ],
            "text/plain": [
              "       名前     身長    体重 職業  クラスター\n",
              "0   福井　優也  178.0  85.0  B      0\n",
              "1   九里　亜蓮  187.0  92.0  B      0\n",
              "2   加藤　拓也  176.0  88.0  B      0\n",
              "3  大瀬良　大地  187.0  93.0  B      0\n",
              "4    今村　猛  183.0  98.0  B      0"
            ]
          },
          "metadata": {
            "tags": []
          },
          "execution_count": 61
        }
      ]
    },
    {
      "cell_type": "markdown",
      "metadata": {
        "id": "9RIqd-IfVvU-"
      },
      "source": [
        ""
      ]
    },
    {
      "cell_type": "code",
      "metadata": {
        "colab": {
          "base_uri": "https://localhost:8080/"
        },
        "id": "eyg-LwsoXuyG",
        "outputId": "7ec890b4-b46f-4a5d-fb32-a5b0510e6c34"
      },
      "source": [
        "!pip install japanize_matplotlib\n",
        "import matplotlib.pyplot as plt\n",
        "import japanize_matplotlib #日本語化 matplotlib \n",
        "import seaborn as sns\n",
        "sns.set(font=\"IPAexGothic\") #日本語フォント設定\n",
        "%matplotlib inline"
      ],
      "execution_count": null,
      "outputs": [
        {
          "output_type": "stream",
          "text": [
            "Collecting japanize_matplotlib\n",
            "\u001b[?25l  Downloading https://files.pythonhosted.org/packages/aa/85/08a4b7fe8987582d99d9bb7ad0ff1ec75439359a7f9690a0dbf2dbf98b15/japanize-matplotlib-1.1.3.tar.gz (4.1MB)\n",
            "\u001b[K     |████████████████████████████████| 4.1MB 5.5MB/s \n",
            "\u001b[?25hRequirement already satisfied: matplotlib in /usr/local/lib/python3.7/dist-packages (from japanize_matplotlib) (3.2.2)\n",
            "Requirement already satisfied: cycler>=0.10 in /usr/local/lib/python3.7/dist-packages (from matplotlib->japanize_matplotlib) (0.10.0)\n",
            "Requirement already satisfied: pyparsing!=2.0.4,!=2.1.2,!=2.1.6,>=2.0.1 in /usr/local/lib/python3.7/dist-packages (from matplotlib->japanize_matplotlib) (2.4.7)\n",
            "Requirement already satisfied: kiwisolver>=1.0.1 in /usr/local/lib/python3.7/dist-packages (from matplotlib->japanize_matplotlib) (1.3.1)\n",
            "Requirement already satisfied: numpy>=1.11 in /usr/local/lib/python3.7/dist-packages (from matplotlib->japanize_matplotlib) (1.19.5)\n",
            "Requirement already satisfied: python-dateutil>=2.1 in /usr/local/lib/python3.7/dist-packages (from matplotlib->japanize_matplotlib) (2.8.1)\n",
            "Requirement already satisfied: six in /usr/local/lib/python3.7/dist-packages (from cycler>=0.10->matplotlib->japanize_matplotlib) (1.15.0)\n",
            "Building wheels for collected packages: japanize-matplotlib\n",
            "  Building wheel for japanize-matplotlib (setup.py) ... \u001b[?25l\u001b[?25hdone\n",
            "  Created wheel for japanize-matplotlib: filename=japanize_matplotlib-1.1.3-cp37-none-any.whl size=4120276 sha256=b9c8d7b05d06714d5cf4fcb8043153e54dfd67e5d1e1a713549cc2e0ce9a3357\n",
            "  Stored in directory: /root/.cache/pip/wheels/b7/d9/a2/f907d50b32a2d2008ce5d691d30fb6569c2c93eefcfde55202\n",
            "Successfully built japanize-matplotlib\n",
            "Installing collected packages: japanize-matplotlib\n",
            "Successfully installed japanize-matplotlib-1.1.3\n"
          ],
          "name": "stdout"
        }
      ]
    },
    {
      "cell_type": "code",
      "metadata": {
        "colab": {
          "base_uri": "https://localhost:8080/",
          "height": 301
        },
        "id": "XvJpT-ySX7j_",
        "outputId": "a5883e79-c409-4e26-e187-275de5c9bd18"
      },
      "source": [
        "colors = ['blue', 'red', 'green']\n",
        "ax=None\n",
        "plt.figure(figsize=(5,5))\n",
        "for i, gd in enumerate(data.groupby('クラスター')):\n",
        "  ax = gd[1].plot(kind='scatter', x='身長', y='体重', c=colors[i], alpha=0.3, ax=ax)\n"
      ],
      "execution_count": null,
      "outputs": [
        {
          "output_type": "display_data",
          "data": {
            "text/plain": [
              "<Figure size 360x360 with 0 Axes>"
            ]
          },
          "metadata": {
            "tags": []
          }
        },
        {
          "output_type": "display_data",
          "data": {
            "image/png": "[encoded data removed]",
            "text/plain": [
              "<Figure size 432x288 with 1 Axes>"
            ]
          },
          "metadata": {
            "tags": [],
            "needs_background": "light"
          }
        }
      ]
    },
    {
      "cell_type": "markdown",
      "metadata": {
        "id": "MLd9LVOQy0zx"
      },
      "source": [
        "成績データ"
      ]
    },
    {
      "cell_type": "code",
      "metadata": {
        "id": "r6kTHOS_y6cG"
      },
      "source": [
        ""
      ],
      "execution_count": null,
      "outputs": []
    }
  ]
}