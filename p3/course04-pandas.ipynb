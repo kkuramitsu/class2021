{
  "nbformat": 4,
  "nbformat_minor": 0,
  "metadata": {
    "colab": {
      "name": "BMI.ipynb",
      "provenance": [],
      "toc_visible": true,
      "authorship_tag": "ABX9TyOyD/FqcdqtgEgd/20OOAJF",
      "include_colab_link": true
    },
    "kernelspec": {
      "name": "python3",
      "display_name": "Python 3"
    }
  },
  "cells": [
    {
      "cell_type": "markdown",
      "metadata": {
        "id": "zDENs4tlONAf"
      },
      "source": [
        "# コースワーク04: Pandas\n",
        "\n",
        "３つのファイルを連結して、ひとつのCSVファイル `bmi.csv`として保存してください。\n",
        "\n",
        "- `Jリーグ選手身長体重.csv`　(職業は、`F`)\n",
        "- `プロ野球選手身長体重.csv` (職業は、`B`)\n",
        "- `力士身長体重.csv` (職業は、`W`)\n",
        "\n",
        "\n",
        "__例__ `bmi.csv`の仕様\n",
        "\n",
        "```\n",
        "名前,身長,体重,職業\n",
        "福井　優也,178.0,85.0,B\n",
        "玉鷲 一朗,188.0,174.0,W\n",
        "安藤　駿介,185.0,79,F\n",
        "....\n",
        "```\n"
      ]
    },
    {
      "source": [
        "## データの入手先\n",
        "\n",
        "[数式をプログラムするってつまりこういうこと](https://github.com/massongit/math-program-book)のGithub情のデータを使わせてもらいます。\n"
      ],
      "cell_type": "markdown",
      "metadata": {}
    },
    {
      "cell_type": "code",
      "metadata": {
        "colab": {
          "base_uri": "https://localhost:8080/"
        },
        "id": "wzPJgdpOOcRS",
        "outputId": "be5b9437-69f0-4755-a27f-1716e420a2ba"
      },
      "source": [
        "!wget https://raw.githubusercontent.com/massongit/math-program-book/master/9_data/サッカー/Jリーグ選手身長体重.csv\n",
        "!wget https://raw.githubusercontent.com/massongit/math-program-book/master/9_data/プロ野球/プロ野球選手身長体重.csv\n",
        "!wget https://raw.githubusercontent.com/massongit/math-program-book/master/9_data/相撲/力士身長体重.csv\n"
      ],
      "execution_count": null,
      "outputs": []
    },
    {
      "cell_type": "code",
      "execution_count": null,
      "metadata": {},
      "outputs": [],
      "source": []
    }
  ]
}