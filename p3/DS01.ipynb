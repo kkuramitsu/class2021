{
  "nbformat": 4,
  "nbformat_minor": 0,
  "metadata": {
    "colab": {
      "name": "DS01.ipynb",
      "provenance": [],
      "collapsed_sections": []
    },
    "kernelspec": {
      "name": "python3",
      "display_name": "Python 3"
    },
    "language_info": {
      "name": "python"
    }
  },
  "cells": [
    {
      "cell_type": "markdown",
      "metadata": {
        "id": "V5gnQHPfFP-Z"
      },
      "source": [
        "# 第１回 テーマ: Python を思い出そう\n",
        "\n",
        "氏名　目白華子\n",
        "\n",
        "## 概要 \n",
        "\n",
        "できたこと, できなかったこと, 今回、理解したこと、気づいたことをまとめてください。\n",
        "感想もこちらに書いてください。（感想は配点高めですよ。）"
      ]
    },
    {
      "cell_type": "markdown",
      "metadata": {
        "id": "w2fcfnF_E8_B"
      },
      "source": [
        "## コースワーク1\n",
        "\n",
        "演習（素数）\n",
        "Colabを用いて、1000以下の素数リストを作るPythonプログラムを書いてみよう。\n",
        "\n",
        "http://kuramitsulab.github.io/lecnote/ds/ds01intro.html#コースワーク"
      ]
    },
    {
      "cell_type": "code",
      "metadata": {
        "id": "x69PVtIzFPkf"
      },
      "source": [
        ""
      ],
      "execution_count": null,
      "outputs": []
    },
    {
      "cell_type": "markdown",
      "metadata": {
        "id": "f_o-rn9fFDek"
      },
      "source": [
        "## コースワーク２\n",
        "\n",
        "SymPy を使って、解くことができた計算問題を報告してください。\n",
        "\n",
        "http://kuramitsulab.github.io/lecnote/ds/ds02sympy.html"
      ]
    },
    {
      "cell_type": "code",
      "metadata": {
        "id": "atVdIx_3FBpB"
      },
      "source": [
        ""
      ],
      "execution_count": null,
      "outputs": []
    },
    {
      "cell_type": "code",
      "metadata": {
        "id": "hjjhih6wEzKK"
      },
      "source": [
        ""
      ],
      "execution_count": null,
      "outputs": []
    },
    {
      "cell_type": "markdown",
      "metadata": {
        "id": "XuT7oBp8HzIz"
      },
      "source": [
        "その他\n",
        "\n",
        "Let's try 等で試したことがあったら、追記して書いてください。"
      ]
    },
    {
      "cell_type": "code",
      "metadata": {
        "id": "_adV9l-MHyxC"
      },
      "source": [
        ""
      ],
      "execution_count": null,
      "outputs": []
    }
  ]
}