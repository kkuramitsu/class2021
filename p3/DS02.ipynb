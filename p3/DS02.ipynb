{
  "nbformat": 4,
  "nbformat_minor": 0,
  "metadata": {
    "colab": {
      "name": "DS02.ipynb",
      "provenance": [],
      "collapsed_sections": []
    },
    "kernelspec": {
      "name": "python3",
      "display_name": "Python 3"
    },
    "language_info": {
      "name": "python"
    }
  },
  "cells": [
    {
      "cell_type": "markdown",
      "metadata": {
        "id": "vmAAlnE2ISwm"
      },
      "source": [
        "# 第2回 Pandas, グラフ作画, データの特徴をつかむ\n",
        "\n",
        "氏名　目白華子\n",
        "\n",
        "## 概要 \n",
        "\n",
        "できたこと, できなかったこと, 今回、理解したこと、気づいたことをまとめてください。\n",
        "感想もこちらに書いてください。\n"
      ]
    },
    {
      "cell_type": "markdown",
      "metadata": {
        "id": "GWWmGaubIf0W"
      },
      "source": [
        "## コースワーク３\n",
        "\n",
        "演習問題（n 個のサイコロ）\n",
        "\n",
        "n個のサイコロを1000回ふることを考える。 サイコロの数を1から8にに増やしていくと、 サイコロの目の和の頻度分布をヒストグラムとして描画せよ。 また、サイコロの数が増えたとき、最終的にどのような分布に近づくか考察せよ。\n",
        "\n",
        "http://kuramitsulab.github.io/lecnote/ds/ds03numpy.html#コースワーク"
      ]
    },
    {
      "cell_type": "code",
      "metadata": {
        "id": "A2S_0lwAIfJa"
      },
      "source": [
        ""
      ],
      "execution_count": null,
      "outputs": []
    },
    {
      "cell_type": "markdown",
      "metadata": {
        "id": "F8m_cJFqIwA1"
      },
      "source": [
        "## コースワーク4\n",
        "\n",
        "演習（BMI.CSV）\n",
        "\n",
        "野球選手(B)、サッカー選手(F)、相撲(W)に関するCSVファイルをまとめ、 次の属性からなるCSVファイルにしよう。\n",
        "\n",
        "詳しくは：\n",
        "http://kuramitsulab.github.io/lecnote/ds/ds04pandas.html#コースワーク\n"
      ]
    },
    {
      "cell_type": "code",
      "metadata": {
        "id": "aHwvt75tIJoD"
      },
      "source": [
        "# ファイルの入手\n",
        "!wget https://raw.githubusercontent.com/massongit/math-program-book/master/9_data/サッカー/Jリーグ選手身長体重.csv\n",
        "!wget https://raw.githubusercontent.com/massongit/math-program-book/master/9_data/プロ野球/プロ野球選手身長体重.csv\n",
        "!wget https://raw.githubusercontent.com/massongit/math-program-book/master/9_data/相撲/力士身長体重.csv\n"
      ],
      "execution_count": null,
      "outputs": []
    },
    {
      "cell_type": "code",
      "metadata": {
        "id": "HRDEr-7TIKRT"
      },
      "source": [
        ""
      ],
      "execution_count": null,
      "outputs": []
    },
    {
      "cell_type": "markdown",
      "metadata": {
        "id": "YP2Djn-YJRz8"
      },
      "source": [
        "## コースワーク５\n",
        "\n",
        "カフェフロアで販売されているお弁当の販売数のデータを可視化して、 \n",
        "わかった特徴を報告してください。\n",
        "\n",
        "http://kuramitsulab.github.io/lecnote/ds/ds05data.html#コースワーク\n"
      ]
    },
    {
      "cell_type": "code",
      "metadata": {
        "id": "UJlOz6HYJiQO"
      },
      "source": [
        "# まず、訓練データをダウンロードします\n",
        "\n",
        "!wget http://kuramitsulab.github.io/data/bento_train.csv"
      ],
      "execution_count": null,
      "outputs": []
    },
    {
      "cell_type": "code",
      "metadata": {
        "id": "9OdDuk8xKREG"
      },
      "source": [
        ""
      ],
      "execution_count": null,
      "outputs": []
    }
  ]
}