{
  "nbformat": 4,
  "nbformat_minor": 0,
  "metadata": {
    "colab": {
      "name": "DS03.ipynb",
      "provenance": [],
      "collapsed_sections": []
    },
    "kernelspec": {
      "name": "python3",
      "display_name": "Python 3"
    },
    "language_info": {
      "name": "python"
    }
  },
  "cells": [
    {
      "cell_type": "markdown",
      "metadata": {
        "id": "nlmadKB-K8d3"
      },
      "source": [
        "# 第3回 機械学習入門\n",
        "\n",
        "氏名　目白華子\n",
        "\n",
        "## 概要 \n",
        "\n",
        "できたこと, できなかったこと, 今回、理解したこと、気づいたことをまとめてください。\n",
        "感想もこちらに書いてください。"
      ]
    },
    {
      "cell_type": "markdown",
      "metadata": {
        "id": "AsYga9cvLKwg"
      },
      "source": [
        "## コースワーク６\n",
        "\n",
        "例題（成績表）\n",
        "\n",
        "基本情報処理でおなじみの成績データを用いて、３グループに分割してみよう。\n",
        "\n",
        "http://kuramitsulab.github.io/lecnote/ds/ds06classfy.html#コースワーク"
      ]
    },
    {
      "cell_type": "code",
      "metadata": {
        "id": "MRYX_kCWLKEW"
      },
      "source": [
        ""
      ],
      "execution_count": null,
      "outputs": []
    },
    {
      "cell_type": "markdown",
      "metadata": {
        "id": "AND3F-syLcPK"
      },
      "source": [
        "## コースワーク７\n",
        "\n",
        "例題（ボストンハウジング）\n",
        "\n",
        "決定係数0.75を超える重回帰モデルを構築してみよう。\n",
        "ランダムフォレストの原理も調べて、パラメータを調整して精度をあげてみよう\n",
        "勾配ブーストを用いた決定木(XGBoos)も試してみよう。\n",
        "\n",
        "http://kuramitsulab.github.io/lecnote/ds/ds07reg.html#コースワーク"
      ]
    },
    {
      "cell_type": "code",
      "metadata": {
        "id": "6lWco_GfLbNq"
      },
      "source": [
        ""
      ],
      "execution_count": null,
      "outputs": []
    },
    {
      "cell_type": "markdown",
      "metadata": {
        "id": "5Y9FYRIxLr2L"
      },
      "source": [
        "## コースワーク８\n",
        "\n",
        "例題（２クラス分類問題）\n",
        "\n",
        "乳がんのデータをホールドアウト法で訓練データとテストデータ(7:3)に分割し、 良性か悪性か判定する予測モデルを作成してみよう。\n",
        "\n",
        "* ロジスティック回帰\n",
        "* 決定木\n",
        "* ランダムフォレスト\n",
        "* サポートベクターマシン\n",
        "\n",
        "説明変数は、各アルゴリズムに適したものを選んで構いません。 テストデータに対する正解率で比較してみましょう。\n",
        "\n",
        "http://kuramitsulab.github.io/lecnote/ds/ds08ml.html#コースワーク\n"
      ]
    },
    {
      "cell_type": "code",
      "metadata": {
        "id": "J2E0V9haLq8e"
      },
      "source": [
        "#データの入手先\n",
        "!wget http://kuramitsulab.github.io/data/cancer_ja.csv"
      ],
      "execution_count": null,
      "outputs": []
    }
  ]
}