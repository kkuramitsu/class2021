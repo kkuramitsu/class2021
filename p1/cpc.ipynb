{
 "metadata": {
  "language_info": {
   "codemirror_mode": {
    "name": "ipython",
    "version": 3
   },
   "file_extension": ".py",
   "mimetype": "text/x-python",
   "name": "python",
   "nbconvert_exporter": "python",
   "pygments_lexer": "ipython3",
   "version": 3
  },
  "orig_nbformat": 2
 },
 "nbformat": 4,
 "nbformat_minor": 2,
 "cells": [
  {
   "source": [
    "# Colab上で複数行の入力を簡単にする方法\n",
    "\n",
    "入力を定義する関数を最初に定義します。"
   ],
   "cell_type": "markdown",
   "metadata": {}
  },
  {
   "cell_type": "code",
   "execution_count": null,
   "metadata": {},
   "outputs": [],
   "source": [
    "def In(s): #Colab上で最初に一度定義する。\n",
    "  global input\n",
    "  import builtins\n",
    "  data  = [line for line in s.split('\\n') if len(line) > 0]\n",
    "  def input_new():\n",
    "    if len(data) > 0:\n",
    "      return data.pop(0)\n",
    "    else:\n",
    "      input = inputs.input # 元に戻す\n",
    "      return builtins.input()\n",
    "  input = input_new"
   ]
  },
  {
   "source": [
    "入力例を先頭にコピペします。\n",
    "\n",
    "入力例\n",
    "```\n",
    "5\n",
    "31 41 59 26 53\n",
    "```"
   ],
   "cell_type": "markdown",
   "metadata": {}
  },
  {
   "cell_type": "code",
   "execution_count": null,
   "metadata": {},
   "outputs": [],
   "source": [
    "In('''\n",
    "5\n",
    "31 41 59 26 53\n",
    "''')\n",
    "\n",
    "# ここから下は普通にプログラムします。\n",
    "\n",
    "n = int(input())\n",
    "a = list(input().split())\n",
    "print(n) \n",
    "print(a)"
   ]
  },
  {
   "cell_type": "code",
   "execution_count": null,
   "metadata": {},
   "outputs": [],
   "source": []
  }
 ]
}